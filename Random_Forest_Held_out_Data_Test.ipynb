{
  "nbformat": 4,
  "nbformat_minor": 0,
  "metadata": {
    "colab": {
      "provenance": []
    },
    "kernelspec": {
      "name": "python3",
      "display_name": "Python 3"
    },
    "language_info": {
      "name": "python"
    }
  },
  "cells": [
    {
      "cell_type": "markdown",
      "source": [
        "# Testing Random Forest Model on Hold-out Data"
      ],
      "metadata": {
        "id": "WZC-Zm-sM9TQ"
      }
    },
    {
      "cell_type": "code",
      "execution_count": null,
      "metadata": {
        "colab": {
          "base_uri": "https://localhost:8080/"
        },
        "id": "kOYeKchUoigR",
        "outputId": "e054e516-d459-4d96-ff2a-ed7ce66fe030"
      },
      "outputs": [
        {
          "output_type": "stream",
          "name": "stdout",
          "text": [
            "To authorize access needed by Earth Engine, open the following URL in a web browser and follow the instructions. If the web browser does not start automatically, please manually browse the URL below.\n",
            "\n",
            "    https://code.earthengine.google.com/client-auth?scopes=https%3A//www.googleapis.com/auth/earthengine%20https%3A//www.googleapis.com/auth/devstorage.full_control&request_id=IgzttPa6HKxhBIgpl9Tm_kB2soOO4CTS7L1JdmPlDw8&tc=tze6_NmGi0D4-Ss3WtVOFc5w9Q0OLZNUpy_pelsHnVQ&cc=FzduK6XDPFvkSJE94OOQntnFTM7lrJ1Ov7uElldSESk\n",
            "\n",
            "The authorization workflow will generate a code, which you should paste in the box below.\n",
            "Enter verification code: 4/1AfJohXmGSBg38Gg5Kk6PtetSTlw2MN9yeeFoTC590Xl9wkv0h3SNDj9-K5E\n",
            "\n",
            "Successfully saved authorization token.\n"
          ]
        }
      ],
      "source": [
        "import ee\n",
        "ee.Authenticate()\n",
        "ee.Initialize()"
      ]
    },
    {
      "cell_type": "markdown",
      "source": [
        "### Import held out data"
      ],
      "metadata": {
        "id": "uOzYamFUOdii"
      }
    },
    {
      "cell_type": "code",
      "source": [
        "# bring in the last 10 percent of data for generalizing\n",
        "testing = ee.FeatureCollection('users/aspenjkmorgan/k_folds/test')\n",
        "testing.first().getInfo()"
      ],
      "metadata": {
        "colab": {
          "base_uri": "https://localhost:8080/"
        },
        "id": "9ZKw6KbOooqD",
        "outputId": "e3ac27b7-a506-45c5-def0-a69bdccd2fe5"
      },
      "execution_count": null,
      "outputs": [
        {
          "output_type": "execute_result",
          "data": {
            "text/plain": [
              "{'type': 'Feature',\n",
              " 'geometry': {'type': 'Point', 'coordinates': [-114.189259, 48.363709]},\n",
              " 'id': '00000000000000000000',\n",
              " 'properties': {'DPT': 5.050012111663818,\n",
              "  'PBLH': 903.87353515625,\n",
              "  'PRES': 91148.5,\n",
              "  'RH': 59.955150648997744,\n",
              "  'TMP': 12.624994277954102,\n",
              "  'WDIR': 201.3000030517578,\n",
              "  'WIND': 1.7549999952316284,\n",
              "  'aod': 0.217,\n",
              "  'pm25': 3.103142857,\n",
              "  'random': 0.9806150715932024,\n",
              "  'station': 'Flathead Valley',\n",
              "  'system:time_start': 1339092000000}}"
            ]
          },
          "metadata": {},
          "execution_count": 2
        }
      ]
    },
    {
      "cell_type": "markdown",
      "source": [
        "### Use best split of data for training the model\n",
        "\n"
      ],
      "metadata": {
        "id": "G1WqPVCnOnBS"
      }
    },
    {
      "cell_type": "code",
      "source": [
        "# best fold of training data\n",
        "training = ee.FeatureCollection('users/aspenjkmorgan/k_folds/training_fold_9')\n",
        "training.first().getInfo()"
      ],
      "metadata": {
        "colab": {
          "base_uri": "https://localhost:8080/"
        },
        "id": "i4z34P7Hooxs",
        "outputId": "95c69b9c-2c7b-4742-bdd0-9962faff54e0"
      },
      "execution_count": null,
      "outputs": [
        {
          "output_type": "execute_result",
          "data": {
            "text/plain": [
              "{'type': 'Feature',\n",
              " 'geometry': {'type': 'Point', 'coordinates': [-114.189259, 48.363709]},\n",
              " 'id': '00000000000000000000',\n",
              " 'properties': {'DPT': -4.599997043609619,\n",
              "  'PBLH': 66.51596069335938,\n",
              "  'PRES': 91613.5,\n",
              "  'RH': 67.44328718390516,\n",
              "  'TMP': 0.7449890375137329,\n",
              "  'WDIR': 234.10000610351562,\n",
              "  'WIND': 0.5600000023841858,\n",
              "  'aod': 0.008,\n",
              "  'pm25': 5.5785,\n",
              "  'random': 0.006469227008691791,\n",
              "  'station': 'Flathead Valley',\n",
              "  'system:time_start': 1325534400000}}"
            ]
          },
          "metadata": {},
          "execution_count": 3
        }
      ]
    },
    {
      "cell_type": "markdown",
      "source": [
        "### Helper functions"
      ],
      "metadata": {
        "id": "8csTzpkBOsXE"
      }
    },
    {
      "cell_type": "code",
      "source": [
        "# Compute the difference between computed pm25 and actual\n",
        "def difference(feature):\n",
        "  diff = ee.Number(feature.get('pm_cal')) \\\n",
        "    .subtract(ee.Number(feature.get('pm25')))\n",
        "  # Return the feature with the squared difference set to the 'diff' property.\n",
        "  return feature.set('sq_diff', diff.pow(2))\n",
        "\n",
        "def getTss(feature):\n",
        "  buf = ee.Number(feature.get('pm25')).subtract(ee.Number(mean_actual))\n",
        "  return feature.set('tss', buf.pow(2))"
      ],
      "metadata": {
        "id": "y2rQBSUCpgRZ"
      },
      "execution_count": null,
      "outputs": []
    },
    {
      "cell_type": "markdown",
      "source": [
        "### Use best hyperparameters in model\n",
        "\n"
      ],
      "metadata": {
        "id": "ebBCCZdBOz2R"
      }
    },
    {
      "cell_type": "code",
      "source": [
        "# best estimator, fit to training data\n",
        "rf_model = ee.Classifier.smileRandomForest(**{\n",
        "    'numberOfTrees': 100,\n",
        "    'variablesPerSplit': 2,\n",
        "    'minLeafPopulation': 4,\n",
        "    'bagFraction': 0.7,\n",
        "    'maxNodes': None,\n",
        "    'seed': 0}) \\\n",
        "    .setOutputMode('REGRESSION')\\\n",
        "    .train(**{\n",
        "        'features': training,\n",
        "        'classProperty': 'pm25',\n",
        "        'inputProperties': ['PRES', 'aod', 'RH', 'PBLH', 'DPT', 'WIND', 'WDIR']\n",
        "})"
      ],
      "metadata": {
        "id": "NtDN4VvdoovO"
      },
      "execution_count": null,
      "outputs": []
    },
    {
      "cell_type": "code",
      "source": [
        "# get predictions\n",
        "testing_applied = testing.classify(rf_model, 'pm_cal')"
      ],
      "metadata": {
        "id": "dJXDNwjBqBi6"
      },
      "execution_count": null,
      "outputs": []
    },
    {
      "cell_type": "code",
      "source": [
        "testing_applied.first().getInfo()"
      ],
      "metadata": {
        "colab": {
          "base_uri": "https://localhost:8080/"
        },
        "id": "kRr5isx11hWs",
        "outputId": "a359a8d2-fc14-4754-b5d7-2e7a2d3c6103"
      },
      "execution_count": null,
      "outputs": [
        {
          "output_type": "execute_result",
          "data": {
            "text/plain": [
              "{'type': 'Feature',\n",
              " 'geometry': {'type': 'Point', 'coordinates': [-114.189259, 48.363709]},\n",
              " 'id': '00000000000000000000',\n",
              " 'properties': {'DPT': 5.050012111663818,\n",
              "  'PBLH': 903.87353515625,\n",
              "  'PRES': 91148.5,\n",
              "  'RH': 59.955150648997744,\n",
              "  'TMP': 12.624994277954102,\n",
              "  'WDIR': 201.3000030517578,\n",
              "  'WIND': 1.7549999952316284,\n",
              "  'aod': 0.217,\n",
              "  'pm25': 3.103142857,\n",
              "  'pm_cal': 8.952964286752378,\n",
              "  'random': 0.9806150715932024,\n",
              "  'station': 'Flathead Valley',\n",
              "  'system:time_start': 1339092000000}}"
            ]
          },
          "metadata": {},
          "execution_count": 7
        }
      ]
    },
    {
      "cell_type": "markdown",
      "source": [
        "### Calculate Metrics (RMSE and $R^2$)\n",
        "\n"
      ],
      "metadata": {
        "id": "sk6e4JV4O5JJ"
      }
    },
    {
      "cell_type": "code",
      "source": [
        "mean_actual = testing_applied.aggregate_mean('pm25')\n",
        "testing_applied = testing_applied.map(difference)\n",
        "testing_applied = testing_applied.map(getTss)\n",
        "\n",
        "# RMSE for validation data\n",
        "testing_rmse = ee.Number(testing_applied.reduceColumns(ee.Reducer.mean(), ['sq_diff']).get('mean')).sqrt()"
      ],
      "metadata": {
        "id": "bUXi4dGxqTLh"
      },
      "execution_count": null,
      "outputs": []
    },
    {
      "cell_type": "code",
      "source": [
        "print('RMSE: ' + str(testing_rmse.getInfo()))"
      ],
      "metadata": {
        "colab": {
          "base_uri": "https://localhost:8080/"
        },
        "id": "h4qs-BiAq_4S",
        "outputId": "dce35e1f-a223-4415-8f59-58b18e786263"
      },
      "execution_count": null,
      "outputs": [
        {
          "output_type": "stream",
          "name": "stdout",
          "text": [
            "RMSE: 11.048054111273144\n"
          ]
        }
      ]
    },
    {
      "cell_type": "code",
      "source": [
        "# get R2\n",
        "rss = ee.Number(testing_applied.reduceColumns(ee.Reducer.sum(), ['sq_diff']).get('sum'))\n",
        "tss = ee.Number(testing_applied.reduceColumns(ee.Reducer.sum(), ['tss']).get('sum'))\n",
        "r2 = ee.Number(1).subtract(rss.divide(tss))"
      ],
      "metadata": {
        "id": "a73vE1q-uIFX"
      },
      "execution_count": null,
      "outputs": []
    },
    {
      "cell_type": "code",
      "source": [
        "print('R2: ' + str(r2.getInfo()))"
      ],
      "metadata": {
        "colab": {
          "base_uri": "https://localhost:8080/"
        },
        "id": "H_uv_cshyQKQ",
        "outputId": "55d1ce24-2f68-4f5a-ef60-34c6de077a6f"
      },
      "execution_count": null,
      "outputs": [
        {
          "output_type": "stream",
          "name": "stdout",
          "text": [
            "R2: 0.48374696741112233\n"
          ]
        }
      ]
    }
  ]
}