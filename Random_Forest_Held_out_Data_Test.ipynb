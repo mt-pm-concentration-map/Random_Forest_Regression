{
  "nbformat": 4,
  "nbformat_minor": 0,
  "metadata": {
    "colab": {
      "provenance": []
    },
    "kernelspec": {
      "name": "python3",
      "display_name": "Python 3"
    },
    "language_info": {
      "name": "python"
    }
  },
  "cells": [
    {
      "cell_type": "markdown",
      "source": [
        "# Testing Random Forest Model on Hold-out Data"
      ],
      "metadata": {
        "id": "WZC-Zm-sM9TQ"
      }
    },
    {
      "cell_type": "code",
      "execution_count": null,
      "metadata": {
        "id": "kOYeKchUoigR"
      },
      "outputs": [],
      "source": [
        "import ee\n",
        "ee.Authenticate()\n",
        "ee.Initialize(project='ee-aspenjkmorgan')"
      ]
    },
    {
      "cell_type": "code",
      "source": [
        "import pandas as pd"
      ],
      "metadata": {
        "id": "KOIdr6qKOq9w"
      },
      "execution_count": null,
      "outputs": []
    },
    {
      "cell_type": "markdown",
      "source": [
        "### Import held out data"
      ],
      "metadata": {
        "id": "uOzYamFUOdii"
      }
    },
    {
      "cell_type": "code",
      "source": [
        "# bring in the last 10 percent of data for generalizing\n",
        "testing = ee.FeatureCollection('users/aspenjkmorgan/k_folds/test_v2')\n",
        "testing.first().getInfo()"
      ],
      "metadata": {
        "colab": {
          "base_uri": "https://localhost:8080/"
        },
        "id": "9ZKw6KbOooqD",
        "outputId": "ad975bb2-1e6d-40bd-b1d7-c24c4caa1513"
      },
      "execution_count": null,
      "outputs": [
        {
          "output_type": "execute_result",
          "data": {
            "text/plain": [
              "{'type': 'Feature',\n",
              " 'geometry': {'type': 'Point', 'coordinates': [-114.189259, 48.363709]},\n",
              " 'id': '00000000000000000000',\n",
              " 'properties': {'DPT': 7.049996852874756,\n",
              "  'PBLH': 176.98858642578125,\n",
              "  'PRES': 91151.5,\n",
              "  'RH': 45.5619720135636,\n",
              "  'TMP': 19.07999610900879,\n",
              "  'WDIR': 157.40000915527344,\n",
              "  'WIND': 2.009999990463257,\n",
              "  'aod': 0.0965,\n",
              "  'pm25': 8.4275,\n",
              "  'random': 0.7443328619811324,\n",
              "  'station': 'Flathead Valley',\n",
              "  'system:time_start': 1335124800000}}"
            ]
          },
          "metadata": {},
          "execution_count": 2
        }
      ]
    },
    {
      "cell_type": "markdown",
      "source": [
        "### Use best split of data for training the model\n",
        "\n"
      ],
      "metadata": {
        "id": "G1WqPVCnOnBS"
      }
    },
    {
      "cell_type": "code",
      "source": [
        "# best fold of training data\n",
        "training = ee.FeatureCollection('users/aspenjkmorgan/k_folds/train1_v2')\n",
        "training.first().getInfo()"
      ],
      "metadata": {
        "colab": {
          "base_uri": "https://localhost:8080/"
        },
        "id": "i4z34P7Hooxs",
        "outputId": "3af26357-78a9-465b-d50f-870ebd61455e"
      },
      "execution_count": null,
      "outputs": [
        {
          "output_type": "execute_result",
          "data": {
            "text/plain": [
              "{'type': 'Feature',\n",
              " 'geometry': {'type': 'Point', 'coordinates': [-114.189259, 48.363709]},\n",
              " 'id': '00000000000000000000',\n",
              " 'properties': {'DPT': -0.5499938726425171,\n",
              "  'PBLH': 2201.431640625,\n",
              "  'PRES': 91381.5,\n",
              "  'RH': 18.980433465534684,\n",
              "  'TMP': 24.62998390197754,\n",
              "  'WDIR': 275.0500183105469,\n",
              "  'WIND': 0.6549999713897705,\n",
              "  'aod': 0.0965,\n",
              "  'pm25': 8.4765,\n",
              "  'random': 0.003841988323326273,\n",
              "  'station': 'Flathead Valley',\n",
              "  'system:time_start': 1337025600000}}"
            ]
          },
          "metadata": {},
          "execution_count": 3
        }
      ]
    },
    {
      "cell_type": "markdown",
      "source": [
        "### Helper functions"
      ],
      "metadata": {
        "id": "8csTzpkBOsXE"
      }
    },
    {
      "cell_type": "code",
      "source": [
        "# Compute the difference between computed pm25 and actual\n",
        "def difference(feature):\n",
        "  diff = ee.Number(feature.get('pm_cal')) \\\n",
        "    .subtract(ee.Number(feature.get('pm25')))\n",
        "  # Return the feature with the squared difference set to the 'diff' property.\n",
        "  return feature.set('sq_diff', diff.pow(2))\n",
        "\n",
        "def getTss(feature):\n",
        "  buf = ee.Number(feature.get('pm25')).subtract(ee.Number(mean_actual))\n",
        "  return feature.set('tss', buf.pow(2))"
      ],
      "metadata": {
        "id": "y2rQBSUCpgRZ"
      },
      "execution_count": null,
      "outputs": []
    },
    {
      "cell_type": "markdown",
      "source": [
        "### Use best hyperparameters in model\n",
        "\n"
      ],
      "metadata": {
        "id": "ebBCCZdBOz2R"
      }
    },
    {
      "cell_type": "code",
      "source": [
        "# best estimator, fit to training data\n",
        "rf_model = ee.Classifier.smileRandomForest(**{\n",
        "    'numberOfTrees': 100,\n",
        "    'variablesPerSplit': 3,\n",
        "    'minLeafPopulation': 2,\n",
        "    'bagFraction': 0.5,\n",
        "    'maxNodes': None,\n",
        "    'seed': 0}) \\\n",
        "    .setOutputMode('REGRESSION')\\\n",
        "    .train(**{\n",
        "        'features': training,\n",
        "        'classProperty': 'pm25',\n",
        "        'inputProperties': ['PRES', 'aod', 'RH', 'PBLH', 'DPT', 'WIND', 'WDIR', 'TMP']\n",
        "})"
      ],
      "metadata": {
        "id": "NtDN4VvdoovO"
      },
      "execution_count": null,
      "outputs": []
    },
    {
      "cell_type": "code",
      "source": [
        "# save model to assets for app\n",
        "# (not working with app for some reason)\n",
        "ee.batch.Export.classifier.toAsset(rf_model,\n",
        "                                   'Saved random forest',\n",
        "                                   'users/aspenjkmorgan/random_forest_2023-12-20').start()"
      ],
      "metadata": {
        "id": "uiFPnFkaTUGw"
      },
      "execution_count": null,
      "outputs": []
    },
    {
      "cell_type": "code",
      "source": [
        "# get predictions\n",
        "testing_applied = testing.classify(rf_model, 'pm_cal')"
      ],
      "metadata": {
        "id": "dJXDNwjBqBi6"
      },
      "execution_count": null,
      "outputs": []
    },
    {
      "cell_type": "code",
      "source": [
        "testing_applied.first().getInfo()"
      ],
      "metadata": {
        "colab": {
          "base_uri": "https://localhost:8080/"
        },
        "id": "kRr5isx11hWs",
        "outputId": "c6ba0365-8136-4f8c-ca86-aa4b6b7669e1"
      },
      "execution_count": null,
      "outputs": [
        {
          "output_type": "execute_result",
          "data": {
            "text/plain": [
              "{'type': 'Feature',\n",
              " 'geometry': {'type': 'Point', 'coordinates': [-114.189259, 48.363709]},\n",
              " 'id': '00000000000000000000',\n",
              " 'properties': {'DPT': 7.049996852874756,\n",
              "  'PBLH': 176.98858642578125,\n",
              "  'PRES': 91151.5,\n",
              "  'RH': 45.5619720135636,\n",
              "  'TMP': 19.07999610900879,\n",
              "  'WDIR': 157.40000915527344,\n",
              "  'WIND': 2.009999990463257,\n",
              "  'aod': 0.0965,\n",
              "  'pm25': 8.4275,\n",
              "  'pm_cal': 6.43877822227833,\n",
              "  'random': 0.7443328619811324,\n",
              "  'station': 'Flathead Valley',\n",
              "  'system:time_start': 1335124800000}}"
            ]
          },
          "metadata": {},
          "execution_count": 7
        }
      ]
    },
    {
      "cell_type": "markdown",
      "source": [
        "### Calculate Metrics (RMSE and $R^2$)\n",
        "\n"
      ],
      "metadata": {
        "id": "sk6e4JV4O5JJ"
      }
    },
    {
      "cell_type": "code",
      "source": [
        "mean_actual = testing_applied.aggregate_mean('pm25')\n",
        "testing_applied = testing_applied.map(difference)\n",
        "testing_applied = testing_applied.map(getTss)\n",
        "\n",
        "# RMSE for validation data\n",
        "testing_rmse = ee.Number(testing_applied.reduceColumns(ee.Reducer.mean(), ['sq_diff']).get('mean')).sqrt()"
      ],
      "metadata": {
        "id": "bUXi4dGxqTLh"
      },
      "execution_count": null,
      "outputs": []
    },
    {
      "cell_type": "code",
      "source": [
        "print('RMSE: ' + str(testing_rmse.getInfo()))"
      ],
      "metadata": {
        "colab": {
          "base_uri": "https://localhost:8080/"
        },
        "id": "h4qs-BiAq_4S",
        "outputId": "77ff5088-6065-4204-aeb1-dd0c9508e868"
      },
      "execution_count": null,
      "outputs": [
        {
          "output_type": "stream",
          "name": "stdout",
          "text": [
            "RMSE: 10.267555130354243\n"
          ]
        }
      ]
    },
    {
      "cell_type": "code",
      "source": [
        "# get R2\n",
        "rss = ee.Number(testing_applied.reduceColumns(ee.Reducer.sum(), ['sq_diff']).get('sum'))\n",
        "tss = ee.Number(testing_applied.reduceColumns(ee.Reducer.sum(), ['tss']).get('sum'))\n",
        "r2 = ee.Number(1).subtract(rss.divide(tss))"
      ],
      "metadata": {
        "id": "a73vE1q-uIFX"
      },
      "execution_count": null,
      "outputs": []
    },
    {
      "cell_type": "code",
      "source": [
        "print('R2: ' + str(r2.getInfo()))"
      ],
      "metadata": {
        "colab": {
          "base_uri": "https://localhost:8080/"
        },
        "id": "H_uv_cshyQKQ",
        "outputId": "8fba0496-0be3-4b20-9786-1c318544e40c"
      },
      "execution_count": null,
      "outputs": [
        {
          "output_type": "stream",
          "name": "stdout",
          "text": [
            "R2: 0.5732414047367722\n"
          ]
        }
      ]
    },
    {
      "cell_type": "code",
      "source": [
        "# calculate feature importance\n",
        "importance = pd.DataFrame(rf_model.explain().get('importance').getInfo(), index=[0])\n",
        "total = importance.sum(axis=1)\n",
        "\n",
        "def normalize(col):\n",
        "  return round((col / total)*100, 3)\n",
        "\n",
        "feature_importance = importance.apply(normalize)\n",
        "feature_importance"
      ],
      "metadata": {
        "colab": {
          "base_uri": "https://localhost:8080/",
          "height": 89
        },
        "id": "L0cRmpVJOfT_",
        "outputId": "b67cce63-73e6-4009-9620-c14f19af3785"
      },
      "execution_count": null,
      "outputs": [
        {
          "output_type": "execute_result",
          "data": {
            "text/plain": [
              "      DPT   PBLH   PRES      RH    TMP   WDIR    WIND     aod\n",
              "0  12.041  9.069  9.748  10.864  11.96  7.564  12.092  26.662"
            ],
            "text/html": [
              "\n",
              "  <div id=\"df-93a041d4-93c5-4140-baee-a937f78304fb\" class=\"colab-df-container\">\n",
              "    <div>\n",
              "<style scoped>\n",
              "    .dataframe tbody tr th:only-of-type {\n",
              "        vertical-align: middle;\n",
              "    }\n",
              "\n",
              "    .dataframe tbody tr th {\n",
              "        vertical-align: top;\n",
              "    }\n",
              "\n",
              "    .dataframe thead th {\n",
              "        text-align: right;\n",
              "    }\n",
              "</style>\n",
              "<table border=\"1\" class=\"dataframe\">\n",
              "  <thead>\n",
              "    <tr style=\"text-align: right;\">\n",
              "      <th></th>\n",
              "      <th>DPT</th>\n",
              "      <th>PBLH</th>\n",
              "      <th>PRES</th>\n",
              "      <th>RH</th>\n",
              "      <th>TMP</th>\n",
              "      <th>WDIR</th>\n",
              "      <th>WIND</th>\n",
              "      <th>aod</th>\n",
              "    </tr>\n",
              "  </thead>\n",
              "  <tbody>\n",
              "    <tr>\n",
              "      <th>0</th>\n",
              "      <td>12.041</td>\n",
              "      <td>9.069</td>\n",
              "      <td>9.748</td>\n",
              "      <td>10.864</td>\n",
              "      <td>11.96</td>\n",
              "      <td>7.564</td>\n",
              "      <td>12.092</td>\n",
              "      <td>26.662</td>\n",
              "    </tr>\n",
              "  </tbody>\n",
              "</table>\n",
              "</div>\n",
              "    <div class=\"colab-df-buttons\">\n",
              "\n",
              "  <div class=\"colab-df-container\">\n",
              "    <button class=\"colab-df-convert\" onclick=\"convertToInteractive('df-93a041d4-93c5-4140-baee-a937f78304fb')\"\n",
              "            title=\"Convert this dataframe to an interactive table.\"\n",
              "            style=\"display:none;\">\n",
              "\n",
              "  <svg xmlns=\"http://www.w3.org/2000/svg\" height=\"24px\" viewBox=\"0 -960 960 960\">\n",
              "    <path d=\"M120-120v-720h720v720H120Zm60-500h600v-160H180v160Zm220 220h160v-160H400v160Zm0 220h160v-160H400v160ZM180-400h160v-160H180v160Zm440 0h160v-160H620v160ZM180-180h160v-160H180v160Zm440 0h160v-160H620v160Z\"/>\n",
              "  </svg>\n",
              "    </button>\n",
              "\n",
              "  <style>\n",
              "    .colab-df-container {\n",
              "      display:flex;\n",
              "      gap: 12px;\n",
              "    }\n",
              "\n",
              "    .colab-df-convert {\n",
              "      background-color: #E8F0FE;\n",
              "      border: none;\n",
              "      border-radius: 50%;\n",
              "      cursor: pointer;\n",
              "      display: none;\n",
              "      fill: #1967D2;\n",
              "      height: 32px;\n",
              "      padding: 0 0 0 0;\n",
              "      width: 32px;\n",
              "    }\n",
              "\n",
              "    .colab-df-convert:hover {\n",
              "      background-color: #E2EBFA;\n",
              "      box-shadow: 0px 1px 2px rgba(60, 64, 67, 0.3), 0px 1px 3px 1px rgba(60, 64, 67, 0.15);\n",
              "      fill: #174EA6;\n",
              "    }\n",
              "\n",
              "    .colab-df-buttons div {\n",
              "      margin-bottom: 4px;\n",
              "    }\n",
              "\n",
              "    [theme=dark] .colab-df-convert {\n",
              "      background-color: #3B4455;\n",
              "      fill: #D2E3FC;\n",
              "    }\n",
              "\n",
              "    [theme=dark] .colab-df-convert:hover {\n",
              "      background-color: #434B5C;\n",
              "      box-shadow: 0px 1px 3px 1px rgba(0, 0, 0, 0.15);\n",
              "      filter: drop-shadow(0px 1px 2px rgba(0, 0, 0, 0.3));\n",
              "      fill: #FFFFFF;\n",
              "    }\n",
              "  </style>\n",
              "\n",
              "    <script>\n",
              "      const buttonEl =\n",
              "        document.querySelector('#df-93a041d4-93c5-4140-baee-a937f78304fb button.colab-df-convert');\n",
              "      buttonEl.style.display =\n",
              "        google.colab.kernel.accessAllowed ? 'block' : 'none';\n",
              "\n",
              "      async function convertToInteractive(key) {\n",
              "        const element = document.querySelector('#df-93a041d4-93c5-4140-baee-a937f78304fb');\n",
              "        const dataTable =\n",
              "          await google.colab.kernel.invokeFunction('convertToInteractive',\n",
              "                                                    [key], {});\n",
              "        if (!dataTable) return;\n",
              "\n",
              "        const docLinkHtml = 'Like what you see? Visit the ' +\n",
              "          '<a target=\"_blank\" href=https://colab.research.google.com/notebooks/data_table.ipynb>data table notebook</a>'\n",
              "          + ' to learn more about interactive tables.';\n",
              "        element.innerHTML = '';\n",
              "        dataTable['output_type'] = 'display_data';\n",
              "        await google.colab.output.renderOutput(dataTable, element);\n",
              "        const docLink = document.createElement('div');\n",
              "        docLink.innerHTML = docLinkHtml;\n",
              "        element.appendChild(docLink);\n",
              "      }\n",
              "    </script>\n",
              "  </div>\n",
              "\n",
              "\n",
              "  <div id=\"id_5d7703c9-53d7-46b3-9bfd-045554e89958\">\n",
              "    <style>\n",
              "      .colab-df-generate {\n",
              "        background-color: #E8F0FE;\n",
              "        border: none;\n",
              "        border-radius: 50%;\n",
              "        cursor: pointer;\n",
              "        display: none;\n",
              "        fill: #1967D2;\n",
              "        height: 32px;\n",
              "        padding: 0 0 0 0;\n",
              "        width: 32px;\n",
              "      }\n",
              "\n",
              "      .colab-df-generate:hover {\n",
              "        background-color: #E2EBFA;\n",
              "        box-shadow: 0px 1px 2px rgba(60, 64, 67, 0.3), 0px 1px 3px 1px rgba(60, 64, 67, 0.15);\n",
              "        fill: #174EA6;\n",
              "      }\n",
              "\n",
              "      [theme=dark] .colab-df-generate {\n",
              "        background-color: #3B4455;\n",
              "        fill: #D2E3FC;\n",
              "      }\n",
              "\n",
              "      [theme=dark] .colab-df-generate:hover {\n",
              "        background-color: #434B5C;\n",
              "        box-shadow: 0px 1px 3px 1px rgba(0, 0, 0, 0.15);\n",
              "        filter: drop-shadow(0px 1px 2px rgba(0, 0, 0, 0.3));\n",
              "        fill: #FFFFFF;\n",
              "      }\n",
              "    </style>\n",
              "    <button class=\"colab-df-generate\" onclick=\"generateWithVariable('feature_importance')\"\n",
              "            title=\"Generate code using this dataframe.\"\n",
              "            style=\"display:none;\">\n",
              "\n",
              "  <svg xmlns=\"http://www.w3.org/2000/svg\" height=\"24px\"viewBox=\"0 0 24 24\"\n",
              "       width=\"24px\">\n",
              "    <path d=\"M7,19H8.4L18.45,9,17,7.55,7,17.6ZM5,21V16.75L18.45,3.32a2,2,0,0,1,2.83,0l1.4,1.43a1.91,1.91,0,0,1,.58,1.4,1.91,1.91,0,0,1-.58,1.4L9.25,21ZM18.45,9,17,7.55Zm-12,3A5.31,5.31,0,0,0,4.9,8.1,5.31,5.31,0,0,0,1,6.5,5.31,5.31,0,0,0,4.9,4.9,5.31,5.31,0,0,0,6.5,1,5.31,5.31,0,0,0,8.1,4.9,5.31,5.31,0,0,0,12,6.5,5.46,5.46,0,0,0,6.5,12Z\"/>\n",
              "  </svg>\n",
              "    </button>\n",
              "    <script>\n",
              "      (() => {\n",
              "      const buttonEl =\n",
              "        document.querySelector('#id_5d7703c9-53d7-46b3-9bfd-045554e89958 button.colab-df-generate');\n",
              "      buttonEl.style.display =\n",
              "        google.colab.kernel.accessAllowed ? 'block' : 'none';\n",
              "\n",
              "      buttonEl.onclick = () => {\n",
              "        google.colab.notebook.generateWithVariable('feature_importance');\n",
              "      }\n",
              "      })();\n",
              "    </script>\n",
              "  </div>\n",
              "\n",
              "    </div>\n",
              "  </div>\n"
            ]
          },
          "metadata": {},
          "execution_count": 33
        }
      ]
    },
    {
      "cell_type": "code",
      "source": [
        "# out of bag score\n",
        "# out of bag score\n",
        "rf_model.explain().get('outOfBagErrorEstimate').getInfo()"
      ],
      "metadata": {
        "colab": {
          "base_uri": "https://localhost:8080/"
        },
        "id": "OtSE9k6vO0XY",
        "outputId": "f97f708d-ca70-4896-b64f-d083b6326835"
      },
      "execution_count": null,
      "outputs": [
        {
          "output_type": "execute_result",
          "data": {
            "text/plain": [
              "10.272522573195483"
            ]
          },
          "metadata": {},
          "execution_count": 14
        }
      ]
    }
  ]
}